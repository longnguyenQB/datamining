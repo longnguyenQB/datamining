{
 "cells": [
  {
   "cell_type": "code",
   "execution_count": 1,
   "id": "electoral-namibia",
   "metadata": {},
   "outputs": [
    {
     "name": "stderr",
     "output_type": "stream",
     "text": [
      "C:\\Users\\ASUS\\Anaconda3\\lib\\site-packages\\sklearn\\utils\\deprecation.py:143: FutureWarning: The sklearn.neighbors.base module is  deprecated in version 0.22 and will be removed in version 0.24. The corresponding classes / functions should instead be imported from sklearn.neighbors. Anything that cannot be imported from sklearn.neighbors is now part of the private API.\n",
      "  warnings.warn(message, FutureWarning)\n",
      "C:\\Users\\ASUS\\Anaconda3\\lib\\site-packages\\sklearn\\utils\\deprecation.py:143: FutureWarning: The sklearn.ensemble.bagging module is  deprecated in version 0.22 and will be removed in version 0.24. The corresponding classes / functions should instead be imported from sklearn.ensemble. Anything that cannot be imported from sklearn.ensemble is now part of the private API.\n",
      "  warnings.warn(message, FutureWarning)\n",
      "C:\\Users\\ASUS\\Anaconda3\\lib\\site-packages\\sklearn\\utils\\deprecation.py:143: FutureWarning: The sklearn.ensemble.base module is  deprecated in version 0.22 and will be removed in version 0.24. The corresponding classes / functions should instead be imported from sklearn.ensemble. Anything that cannot be imported from sklearn.ensemble is now part of the private API.\n",
      "  warnings.warn(message, FutureWarning)\n",
      "C:\\Users\\ASUS\\Anaconda3\\lib\\site-packages\\sklearn\\utils\\deprecation.py:143: FutureWarning: The sklearn.ensemble.forest module is  deprecated in version 0.22 and will be removed in version 0.24. The corresponding classes / functions should instead be imported from sklearn.ensemble. Anything that cannot be imported from sklearn.ensemble is now part of the private API.\n",
      "  warnings.warn(message, FutureWarning)\n",
      "C:\\Users\\ASUS\\Anaconda3\\lib\\site-packages\\sklearn\\utils\\deprecation.py:143: FutureWarning: The sklearn.utils.testing module is  deprecated in version 0.22 and will be removed in version 0.24. The corresponding classes / functions should instead be imported from sklearn.utils. Anything that cannot be imported from sklearn.utils is now part of the private API.\n",
      "  warnings.warn(message, FutureWarning)\n",
      "C:\\Users\\ASUS\\Anaconda3\\lib\\site-packages\\sklearn\\utils\\deprecation.py:143: FutureWarning: The sklearn.metrics.classification module is  deprecated in version 0.22 and will be removed in version 0.24. The corresponding classes / functions should instead be imported from sklearn.metrics. Anything that cannot be imported from sklearn.metrics is now part of the private API.\n",
      "  warnings.warn(message, FutureWarning)\n"
     ]
    }
   ],
   "source": [
    "import pandas as pd\n",
    "import numpy as np\n",
    "import matplotlib.pylab as plt\n",
    "import seaborn as sns\n",
    "import joblib\n",
    "from sklearn.preprocessing import MinMaxScaler, StandardScaler\n",
    "from scipy.stats import ks_2samp\n",
    "import imblearn\n",
    "from collections import Counter\n",
    "from imblearn.over_sampling import SMOTE\n",
    "from sklearn.model_selection import train_test_split\n",
    "from sklearn.model_selection import cross_val_score\n",
    "from sklearn.model_selection import RepeatedStratifiedKFold\n",
    "from sklearn.ensemble import RandomForestClassifier\n",
    "from matplotlib import pyplot"
   ]
  },
  {
   "cell_type": "code",
   "execution_count": 2,
   "id": "improved-samoa",
   "metadata": {},
   "outputs": [
    {
     "data": {
      "text/html": [
       "<div>\n",
       "<style scoped>\n",
       "    .dataframe tbody tr th:only-of-type {\n",
       "        vertical-align: middle;\n",
       "    }\n",
       "\n",
       "    .dataframe tbody tr th {\n",
       "        vertical-align: top;\n",
       "    }\n",
       "\n",
       "    .dataframe thead th {\n",
       "        text-align: right;\n",
       "    }\n",
       "</style>\n",
       "<table border=\"1\" class=\"dataframe\">\n",
       "  <thead>\n",
       "    <tr style=\"text-align: right;\">\n",
       "      <th></th>\n",
       "      <th>phone</th>\n",
       "      <th>call_to</th>\n",
       "      <th>call_in</th>\n",
       "      <th>call_to_miss</th>\n",
       "      <th>call_in_miss</th>\n",
       "      <th>avg_duration_call_to</th>\n",
       "      <th>avg_duration_call_in</th>\n",
       "      <th>avg_in_contact</th>\n",
       "      <th>in_hour</th>\n",
       "      <th>avg_success</th>\n",
       "      <th>same_network_operator</th>\n",
       "      <th>sum_report</th>\n",
       "      <th>Spam</th>\n",
       "    </tr>\n",
       "  </thead>\n",
       "  <tbody>\n",
       "    <tr>\n",
       "      <th>0</th>\n",
       "      <td>842257300111</td>\n",
       "      <td>4</td>\n",
       "      <td>1</td>\n",
       "      <td>0</td>\n",
       "      <td>0</td>\n",
       "      <td>72.748181</td>\n",
       "      <td>483.951605</td>\n",
       "      <td>1.00000</td>\n",
       "      <td>5</td>\n",
       "      <td>1.000000</td>\n",
       "      <td>0</td>\n",
       "      <td>1</td>\n",
       "      <td>1</td>\n",
       "    </tr>\n",
       "    <tr>\n",
       "      <th>1</th>\n",
       "      <td>842361091</td>\n",
       "      <td>1</td>\n",
       "      <td>15</td>\n",
       "      <td>255</td>\n",
       "      <td>5</td>\n",
       "      <td>0.000000</td>\n",
       "      <td>18.466544</td>\n",
       "      <td>0.01087</td>\n",
       "      <td>218</td>\n",
       "      <td>0.043478</td>\n",
       "      <td>1</td>\n",
       "      <td>2</td>\n",
       "      <td>1</td>\n",
       "    </tr>\n",
       "    <tr>\n",
       "      <th>2</th>\n",
       "      <td>842363823151</td>\n",
       "      <td>1</td>\n",
       "      <td>1</td>\n",
       "      <td>0</td>\n",
       "      <td>0</td>\n",
       "      <td>16.998300</td>\n",
       "      <td>48.995100</td>\n",
       "      <td>0.50000</td>\n",
       "      <td>2</td>\n",
       "      <td>1.000000</td>\n",
       "      <td>0</td>\n",
       "      <td>2</td>\n",
       "      <td>1</td>\n",
       "    </tr>\n",
       "    <tr>\n",
       "      <th>3</th>\n",
       "      <td>842369996868</td>\n",
       "      <td>0</td>\n",
       "      <td>3</td>\n",
       "      <td>27</td>\n",
       "      <td>4</td>\n",
       "      <td>0.000000</td>\n",
       "      <td>9.666344</td>\n",
       "      <td>0.00000</td>\n",
       "      <td>23</td>\n",
       "      <td>0.088235</td>\n",
       "      <td>0</td>\n",
       "      <td>1</td>\n",
       "      <td>1</td>\n",
       "    </tr>\n",
       "    <tr>\n",
       "      <th>4</th>\n",
       "      <td>842369999014</td>\n",
       "      <td>2</td>\n",
       "      <td>0</td>\n",
       "      <td>0</td>\n",
       "      <td>0</td>\n",
       "      <td>20.998950</td>\n",
       "      <td>0.000000</td>\n",
       "      <td>0.00000</td>\n",
       "      <td>2</td>\n",
       "      <td>1.000000</td>\n",
       "      <td>0</td>\n",
       "      <td>1</td>\n",
       "      <td>1</td>\n",
       "    </tr>\n",
       "    <tr>\n",
       "      <th>...</th>\n",
       "      <td>...</td>\n",
       "      <td>...</td>\n",
       "      <td>...</td>\n",
       "      <td>...</td>\n",
       "      <td>...</td>\n",
       "      <td>...</td>\n",
       "      <td>...</td>\n",
       "      <td>...</td>\n",
       "      <td>...</td>\n",
       "      <td>...</td>\n",
       "      <td>...</td>\n",
       "      <td>...</td>\n",
       "      <td>...</td>\n",
       "    </tr>\n",
       "    <tr>\n",
       "      <th>7056</th>\n",
       "      <td>88165621587</td>\n",
       "      <td>1</td>\n",
       "      <td>0</td>\n",
       "      <td>0</td>\n",
       "      <td>1</td>\n",
       "      <td>68.993101</td>\n",
       "      <td>0.000000</td>\n",
       "      <td>0.00000</td>\n",
       "      <td>2</td>\n",
       "      <td>0.500000</td>\n",
       "      <td>0</td>\n",
       "      <td>1</td>\n",
       "      <td>1</td>\n",
       "    </tr>\n",
       "    <tr>\n",
       "      <th>7057</th>\n",
       "      <td>886975617</td>\n",
       "      <td>27</td>\n",
       "      <td>0</td>\n",
       "      <td>2</td>\n",
       "      <td>0</td>\n",
       "      <td>12.740694</td>\n",
       "      <td>0.000000</td>\n",
       "      <td>0.00000</td>\n",
       "      <td>16</td>\n",
       "      <td>0.931034</td>\n",
       "      <td>0</td>\n",
       "      <td>1</td>\n",
       "      <td>1</td>\n",
       "    </tr>\n",
       "    <tr>\n",
       "      <th>7058</th>\n",
       "      <td>905356262146</td>\n",
       "      <td>1</td>\n",
       "      <td>0</td>\n",
       "      <td>0</td>\n",
       "      <td>0</td>\n",
       "      <td>0.000000</td>\n",
       "      <td>0.000000</td>\n",
       "      <td>0.00000</td>\n",
       "      <td>1</td>\n",
       "      <td>0.000000</td>\n",
       "      <td>1</td>\n",
       "      <td>1</td>\n",
       "      <td>1</td>\n",
       "    </tr>\n",
       "    <tr>\n",
       "      <th>7059</th>\n",
       "      <td>943473882</td>\n",
       "      <td>1</td>\n",
       "      <td>0</td>\n",
       "      <td>0</td>\n",
       "      <td>0</td>\n",
       "      <td>0.999900</td>\n",
       "      <td>0.000000</td>\n",
       "      <td>0.00000</td>\n",
       "      <td>0</td>\n",
       "      <td>0.000000</td>\n",
       "      <td>0</td>\n",
       "      <td>1</td>\n",
       "      <td>1</td>\n",
       "    </tr>\n",
       "    <tr>\n",
       "      <th>7060</th>\n",
       "      <td>99877563</td>\n",
       "      <td>4</td>\n",
       "      <td>0</td>\n",
       "      <td>3</td>\n",
       "      <td>0</td>\n",
       "      <td>31.499213</td>\n",
       "      <td>0.000000</td>\n",
       "      <td>0.00000</td>\n",
       "      <td>2</td>\n",
       "      <td>0.571429</td>\n",
       "      <td>0</td>\n",
       "      <td>1</td>\n",
       "      <td>1</td>\n",
       "    </tr>\n",
       "  </tbody>\n",
       "</table>\n",
       "<p>7061 rows × 13 columns</p>\n",
       "</div>"
      ],
      "text/plain": [
       "             phone  call_to  call_in  call_to_miss  call_in_miss  \\\n",
       "0     842257300111        4        1             0             0   \n",
       "1        842361091        1       15           255             5   \n",
       "2     842363823151        1        1             0             0   \n",
       "3     842369996868        0        3            27             4   \n",
       "4     842369999014        2        0             0             0   \n",
       "...            ...      ...      ...           ...           ...   \n",
       "7056   88165621587        1        0             0             1   \n",
       "7057     886975617       27        0             2             0   \n",
       "7058  905356262146        1        0             0             0   \n",
       "7059     943473882        1        0             0             0   \n",
       "7060      99877563        4        0             3             0   \n",
       "\n",
       "      avg_duration_call_to  avg_duration_call_in  avg_in_contact  in_hour  \\\n",
       "0                72.748181            483.951605         1.00000        5   \n",
       "1                 0.000000             18.466544         0.01087      218   \n",
       "2                16.998300             48.995100         0.50000        2   \n",
       "3                 0.000000              9.666344         0.00000       23   \n",
       "4                20.998950              0.000000         0.00000        2   \n",
       "...                    ...                   ...             ...      ...   \n",
       "7056             68.993101              0.000000         0.00000        2   \n",
       "7057             12.740694              0.000000         0.00000       16   \n",
       "7058              0.000000              0.000000         0.00000        1   \n",
       "7059              0.999900              0.000000         0.00000        0   \n",
       "7060             31.499213              0.000000         0.00000        2   \n",
       "\n",
       "      avg_success  same_network_operator  sum_report  Spam  \n",
       "0        1.000000                      0           1     1  \n",
       "1        0.043478                      1           2     1  \n",
       "2        1.000000                      0           2     1  \n",
       "3        0.088235                      0           1     1  \n",
       "4        1.000000                      0           1     1  \n",
       "...           ...                    ...         ...   ...  \n",
       "7056     0.500000                      0           1     1  \n",
       "7057     0.931034                      0           1     1  \n",
       "7058     0.000000                      1           1     1  \n",
       "7059     0.000000                      0           1     1  \n",
       "7060     0.571429                      0           1     1  \n",
       "\n",
       "[7061 rows x 13 columns]"
      ]
     },
     "execution_count": 2,
     "metadata": {},
     "output_type": "execute_result"
    }
   ],
   "source": [
    "df = pd.read_csv(\"C:\\\\Users\\\\ASUS\\\\Desktop\\\\AI Project\\\\Spam Calls SPIT\\\\icaller-data\\\\Data\\\\data_after_clean\\\\all_report_ver1.csv\")\n",
    "df = df.rename(index=str, columns={\"cung_mang\": \"same_network_operator\"})\n",
    "# df['callto_callin'] = (df.call_to)/(df.call_in+0.00000001)\n",
    "# df['calltomiss_callinmiss'] = (df.call_to_miss)/(df.call_in_miss+0.00000001)\n",
    "# del df['call_to']\n",
    "# del df['call_in']\n",
    "# del df['call_to_miss']\n",
    "# del df['call_in_miss']\n",
    "# del df['in_hour']\n",
    "del df['duration_call_to']\n",
    "del df['duration_call_in']\n",
    "del df['index']\n",
    "# features=['phone','callto_callin','avg_duration_call_to','avg_duration_call_in','avg_in_contact','avg_success','same_network_operator','label_report']\n",
    "# df = df[features]\n",
    "df"
   ]
  },
  {
   "cell_type": "code",
   "execution_count": 3,
   "id": "organizational-trout",
   "metadata": {},
   "outputs": [],
   "source": [
    "X = df.drop(columns=['phone','sum_report','Spam'])\n",
    "y = df['Spam']"
   ]
  },
  {
   "cell_type": "code",
   "execution_count": 4,
   "id": "visible-moldova",
   "metadata": {},
   "outputs": [
    {
     "data": {
      "text/html": [
       "<div>\n",
       "<style scoped>\n",
       "    .dataframe tbody tr th:only-of-type {\n",
       "        vertical-align: middle;\n",
       "    }\n",
       "\n",
       "    .dataframe tbody tr th {\n",
       "        vertical-align: top;\n",
       "    }\n",
       "\n",
       "    .dataframe thead th {\n",
       "        text-align: right;\n",
       "    }\n",
       "</style>\n",
       "<table border=\"1\" class=\"dataframe\">\n",
       "  <thead>\n",
       "    <tr style=\"text-align: right;\">\n",
       "      <th></th>\n",
       "      <th>call_to</th>\n",
       "      <th>call_in</th>\n",
       "      <th>call_to_miss</th>\n",
       "      <th>call_in_miss</th>\n",
       "      <th>avg_duration_call_to</th>\n",
       "      <th>avg_duration_call_in</th>\n",
       "      <th>avg_in_contact</th>\n",
       "      <th>in_hour</th>\n",
       "      <th>avg_success</th>\n",
       "      <th>same_network_operator</th>\n",
       "      <th>Spam</th>\n",
       "    </tr>\n",
       "  </thead>\n",
       "  <tbody>\n",
       "    <tr>\n",
       "      <th>0</th>\n",
       "      <td>-0.191279</td>\n",
       "      <td>0.023058</td>\n",
       "      <td>-0.473057</td>\n",
       "      <td>-0.237241</td>\n",
       "      <td>0.572599</td>\n",
       "      <td>10.220162</td>\n",
       "      <td>3.700708</td>\n",
       "      <td>-0.354879</td>\n",
       "      <td>2.344469</td>\n",
       "      <td>-0.458282</td>\n",
       "      <td>1</td>\n",
       "    </tr>\n",
       "    <tr>\n",
       "      <th>1</th>\n",
       "      <td>-0.360664</td>\n",
       "      <td>3.132650</td>\n",
       "      <td>9.741665</td>\n",
       "      <td>0.490582</td>\n",
       "      <td>-0.634922</td>\n",
       "      <td>0.245268</td>\n",
       "      <td>-0.247504</td>\n",
       "      <td>5.650917</td>\n",
       "      <td>-1.116807</td>\n",
       "      <td>-0.426703</td>\n",
       "      <td>1</td>\n",
       "    </tr>\n",
       "    <tr>\n",
       "      <th>2</th>\n",
       "      <td>-0.360664</td>\n",
       "      <td>0.023058</td>\n",
       "      <td>-0.473057</td>\n",
       "      <td>-0.237241</td>\n",
       "      <td>-0.352774</td>\n",
       "      <td>0.899465</td>\n",
       "      <td>1.704909</td>\n",
       "      <td>-0.439467</td>\n",
       "      <td>2.344469</td>\n",
       "      <td>-0.458282</td>\n",
       "      <td>1</td>\n",
       "    </tr>\n",
       "    <tr>\n",
       "      <th>3</th>\n",
       "      <td>-0.417126</td>\n",
       "      <td>0.467285</td>\n",
       "      <td>0.608502</td>\n",
       "      <td>0.345017</td>\n",
       "      <td>-0.634922</td>\n",
       "      <td>0.056688</td>\n",
       "      <td>-0.290891</td>\n",
       "      <td>0.152653</td>\n",
       "      <td>-0.954849</td>\n",
       "      <td>-0.458282</td>\n",
       "      <td>1</td>\n",
       "    </tr>\n",
       "    <tr>\n",
       "      <th>4</th>\n",
       "      <td>-0.304203</td>\n",
       "      <td>-0.199056</td>\n",
       "      <td>-0.473057</td>\n",
       "      <td>-0.237241</td>\n",
       "      <td>-0.286368</td>\n",
       "      <td>-0.150452</td>\n",
       "      <td>-0.290891</td>\n",
       "      <td>-0.439467</td>\n",
       "      <td>2.344469</td>\n",
       "      <td>-0.458282</td>\n",
       "      <td>1</td>\n",
       "    </tr>\n",
       "    <tr>\n",
       "      <th>...</th>\n",
       "      <td>...</td>\n",
       "      <td>...</td>\n",
       "      <td>...</td>\n",
       "      <td>...</td>\n",
       "      <td>...</td>\n",
       "      <td>...</td>\n",
       "      <td>...</td>\n",
       "      <td>...</td>\n",
       "      <td>...</td>\n",
       "      <td>...</td>\n",
       "      <td>...</td>\n",
       "    </tr>\n",
       "    <tr>\n",
       "      <th>7056</th>\n",
       "      <td>-0.360664</td>\n",
       "      <td>-0.199056</td>\n",
       "      <td>-0.473057</td>\n",
       "      <td>-0.091676</td>\n",
       "      <td>0.510270</td>\n",
       "      <td>-0.150452</td>\n",
       "      <td>-0.290891</td>\n",
       "      <td>-0.439467</td>\n",
       "      <td>0.535166</td>\n",
       "      <td>-0.458282</td>\n",
       "      <td>1</td>\n",
       "    </tr>\n",
       "    <tr>\n",
       "      <th>7057</th>\n",
       "      <td>1.107341</td>\n",
       "      <td>-0.199056</td>\n",
       "      <td>-0.392941</td>\n",
       "      <td>-0.237241</td>\n",
       "      <td>-0.423444</td>\n",
       "      <td>-0.150452</td>\n",
       "      <td>-0.290891</td>\n",
       "      <td>-0.044720</td>\n",
       "      <td>2.094910</td>\n",
       "      <td>-0.458282</td>\n",
       "      <td>1</td>\n",
       "    </tr>\n",
       "    <tr>\n",
       "      <th>7058</th>\n",
       "      <td>-0.360664</td>\n",
       "      <td>-0.199056</td>\n",
       "      <td>-0.473057</td>\n",
       "      <td>-0.237241</td>\n",
       "      <td>-0.634922</td>\n",
       "      <td>-0.150452</td>\n",
       "      <td>-0.290891</td>\n",
       "      <td>-0.467664</td>\n",
       "      <td>-1.274138</td>\n",
       "      <td>-0.426703</td>\n",
       "      <td>1</td>\n",
       "    </tr>\n",
       "    <tr>\n",
       "      <th>7059</th>\n",
       "      <td>-0.360664</td>\n",
       "      <td>-0.199056</td>\n",
       "      <td>-0.473057</td>\n",
       "      <td>-0.237241</td>\n",
       "      <td>-0.618325</td>\n",
       "      <td>-0.150452</td>\n",
       "      <td>-0.290891</td>\n",
       "      <td>-0.495860</td>\n",
       "      <td>-1.274138</td>\n",
       "      <td>-0.458282</td>\n",
       "      <td>1</td>\n",
       "    </tr>\n",
       "    <tr>\n",
       "      <th>7060</th>\n",
       "      <td>-0.191279</td>\n",
       "      <td>-0.199056</td>\n",
       "      <td>-0.352884</td>\n",
       "      <td>-0.237241</td>\n",
       "      <td>-0.112078</td>\n",
       "      <td>-0.150452</td>\n",
       "      <td>-0.290891</td>\n",
       "      <td>-0.439467</td>\n",
       "      <td>0.793638</td>\n",
       "      <td>-0.458282</td>\n",
       "      <td>1</td>\n",
       "    </tr>\n",
       "  </tbody>\n",
       "</table>\n",
       "<p>7061 rows × 11 columns</p>\n",
       "</div>"
      ],
      "text/plain": [
       "       call_to   call_in  call_to_miss  call_in_miss  avg_duration_call_to  \\\n",
       "0    -0.191279  0.023058     -0.473057     -0.237241              0.572599   \n",
       "1    -0.360664  3.132650      9.741665      0.490582             -0.634922   \n",
       "2    -0.360664  0.023058     -0.473057     -0.237241             -0.352774   \n",
       "3    -0.417126  0.467285      0.608502      0.345017             -0.634922   \n",
       "4    -0.304203 -0.199056     -0.473057     -0.237241             -0.286368   \n",
       "...        ...       ...           ...           ...                   ...   \n",
       "7056 -0.360664 -0.199056     -0.473057     -0.091676              0.510270   \n",
       "7057  1.107341 -0.199056     -0.392941     -0.237241             -0.423444   \n",
       "7058 -0.360664 -0.199056     -0.473057     -0.237241             -0.634922   \n",
       "7059 -0.360664 -0.199056     -0.473057     -0.237241             -0.618325   \n",
       "7060 -0.191279 -0.199056     -0.352884     -0.237241             -0.112078   \n",
       "\n",
       "      avg_duration_call_in  avg_in_contact   in_hour  avg_success  \\\n",
       "0                10.220162        3.700708 -0.354879     2.344469   \n",
       "1                 0.245268       -0.247504  5.650917    -1.116807   \n",
       "2                 0.899465        1.704909 -0.439467     2.344469   \n",
       "3                 0.056688       -0.290891  0.152653    -0.954849   \n",
       "4                -0.150452       -0.290891 -0.439467     2.344469   \n",
       "...                    ...             ...       ...          ...   \n",
       "7056             -0.150452       -0.290891 -0.439467     0.535166   \n",
       "7057             -0.150452       -0.290891 -0.044720     2.094910   \n",
       "7058             -0.150452       -0.290891 -0.467664    -1.274138   \n",
       "7059             -0.150452       -0.290891 -0.495860    -1.274138   \n",
       "7060             -0.150452       -0.290891 -0.439467     0.793638   \n",
       "\n",
       "      same_network_operator  Spam  \n",
       "0                 -0.458282     1  \n",
       "1                 -0.426703     1  \n",
       "2                 -0.458282     1  \n",
       "3                 -0.458282     1  \n",
       "4                 -0.458282     1  \n",
       "...                     ...   ...  \n",
       "7056              -0.458282     1  \n",
       "7057              -0.458282     1  \n",
       "7058              -0.426703     1  \n",
       "7059              -0.458282     1  \n",
       "7060              -0.458282     1  \n",
       "\n",
       "[7061 rows x 11 columns]"
      ]
     },
     "execution_count": 4,
     "metadata": {},
     "output_type": "execute_result"
    }
   ],
   "source": [
    "scaler = StandardScaler()\n",
    "norm_df = pd.DataFrame(scaler.fit_transform(X), index=X.index, columns=X.columns)\n",
    "# # the result of the transforma\n",
    "# # scaler = MinMaxScaler()\n",
    "# # norm_df = pd.DataFrame(scaler.fit_transform(X), index=X.index,\n",
    "# # columns=X.columns)\n",
    "df_norm = pd.concat([norm_df,y],axis=1)\n",
    "df_norm"
   ]
  },
  {
   "cell_type": "code",
   "execution_count": 5,
   "id": "remarkable-pierre",
   "metadata": {},
   "outputs": [],
   "source": [
    "from sklearn.cluster import DBSCAN\n",
    "X = df_norm.drop(columns=['Spam'])\n",
    "Y = df_norm['Spam']"
   ]
  },
  {
   "cell_type": "code",
   "execution_count": 6,
   "id": "indoor-failure",
   "metadata": {},
   "outputs": [],
   "source": [
    "from sklearn.neighbors import NearestNeighbors\n",
    "neigh = NearestNeighbors(n_neighbors=16)\n",
    "nbrs = neigh.fit(X)\n",
    "distances, indices = nbrs.kneighbors(X)"
   ]
  },
  {
   "cell_type": "code",
   "execution_count": 7,
   "id": "congressional-charlotte",
   "metadata": {},
   "outputs": [
    {
     "data": {
      "text/plain": [
       "[<matplotlib.lines.Line2D at 0x137b1287388>]"
      ]
     },
     "execution_count": 7,
     "metadata": {},
     "output_type": "execute_result"
    },
    {
     "data": {
      "image/png": "[encoded data removed]",
      "text/plain": [
       "<Figure size 432x288 with 1 Axes>"
      ]
     },
     "metadata": {
      "needs_background": "light"
     },
     "output_type": "display_data"
    }
   ],
   "source": [
    "distances = np.sort(distances, axis=0)\n",
    "distances = distances[:,1]\n",
    "# distances\n",
    "plt.plot(distances)"
   ]
  },
  {
   "cell_type": "code",
   "execution_count": 8,
   "id": "disciplinary-continuity",
   "metadata": {},
   "outputs": [
    {
     "name": "stdout",
     "output_type": "stream",
     "text": [
      "0.5476754974944988\n"
     ]
    },
    {
     "data": {
      "text/plain": [
       "<Figure size 360x360 with 0 Axes>"
      ]
     },
     "metadata": {},
     "output_type": "display_data"
    },
    {
     "data": {
      "image/png": "[encoded data removed]",
      "text/plain": [
       "<Figure size 432x432 with 1 Axes>"
      ]
     },
     "metadata": {
      "needs_background": "light"
     },
     "output_type": "display_data"
    }
   ],
   "source": [
    "from kneed import KneeLocator\n",
    "i = np.arange(len(distances))\n",
    "knee = KneeLocator(i, distances, S=1, curve='convex', direction='increasing', interp_method='polynomial')\n",
    "fig = plt.figure(figsize=(5, 5))\n",
    "knee.plot_knee()\n",
    "plt.xlabel(\"Points\")\n",
    "plt.ylabel(\"Distance\")\n",
    "\n",
    "print(distances[knee.knee])"
   ]
  },
  {
   "cell_type": "code",
   "execution_count": 9,
   "id": "removed-opening",
   "metadata": {},
   "outputs": [
    {
     "data": {
      "text/plain": [
       "numpy.ndarray"
      ]
     },
     "execution_count": 9,
     "metadata": {},
     "output_type": "execute_result"
    }
   ],
   "source": [
    "type(distances)"
   ]
  },
  {
   "cell_type": "code",
   "execution_count": 10,
   "id": "civil-difference",
   "metadata": {},
   "outputs": [],
   "source": [
    "db = DBSCAN(eps=1.14, min_samples=10)\n",
    "db.fit(X)\n",
    "y_DBSCAN = db.fit_predict(X)"
   ]
  },
  {
   "cell_type": "code",
   "execution_count": null,
   "id": "understood-environment",
   "metadata": {},
   "outputs": [],
   "source": [
    "from sklearn.manifold import TSNE\n",
    "import plotly.express as px\n",
    "\n",
    "\n",
    "tsne = TSNE(n_components=2, random_state=0)\n",
    "projections = tsne.fit_transform(X)\n",
    "\n",
    "fig = px.scatter(\n",
    "    projections, x=0, y=1,\n",
    "    color=y_DBSCAN\n",
    ")\n",
    "fig.show()"
   ]
  },
  {
   "cell_type": "code",
   "execution_count": null,
   "id": "wicked-stylus",
   "metadata": {},
   "outputs": [],
   "source": [
    "X_copy = X.copy()\n",
    "X_copy['cluster'] = y_DBSCAN"
   ]
  },
  {
   "cell_type": "code",
   "execution_count": null,
   "id": "healthy-pregnancy",
   "metadata": {},
   "outputs": [],
   "source": [
    "X_copy.groupby(['cluster']).count()"
   ]
  },
  {
   "cell_type": "code",
   "execution_count": null,
   "id": "decreased-forestry",
   "metadata": {},
   "outputs": [],
   "source": [
    "X_hdbscan = []\n",
    "for i in range(-1,len(X_copy.cluster.unique())-1):\n",
    "    X_hdbscan.append(X_copy.loc[X_copy.cluster == i])\n"
   ]
  },
  {
   "cell_type": "code",
   "execution_count": null,
   "id": "ideal-fleece",
   "metadata": {},
   "outputs": [],
   "source": [
    "from sklearn.manifold import TSNE\n",
    "import plotly.graph_objects as go\n",
    "T = TSNE(n_components=3).fit_transform(np.concatenate([X_hdbscan[0].drop(columns = ['cluster']), X_hdbscan[1].drop(columns = ['cluster']), X_hdbscan[2].drop(columns = ['cluster'])]))\n",
    "\n",
    "sep = np.cumsum([0] + [len(X_hdbscan[i]) for i in range(len(X_hdbscan))])\n",
    "\n",
    "fig = go.Figure()\n",
    "\n",
    "for i in range(len(X_copy.cluster.unique())):\n",
    "    fig.add_trace(\n",
    "        go.Scatter3d(x=T[sep[i]:sep[i+1]][:, 0],\n",
    "                     y=T[sep[i]:sep[i+1]][:, 1],\n",
    "                     z=T[sep[i]:sep[i+1]][:, 2],\n",
    "                     mode='markers',\n",
    "                     marker=dict(color=i, size=2)))\n",
    "fig.show()\n",
    "fig.write_html(\"6label_tSNE.html\")"
   ]
  },
  {
   "cell_type": "code",
   "execution_count": null,
   "id": "academic-governor",
   "metadata": {},
   "outputs": [],
   "source": [
    "df"
   ]
  },
  {
   "cell_type": "code",
   "execution_count": null,
   "id": "understood-capability",
   "metadata": {},
   "outputs": [],
   "source": [
    "df['sum_call'] = df.call_to + df.call_in \n",
    "df['call_div_report'] = df.sum_call / df.sum_report"
   ]
  },
  {
   "cell_type": "code",
   "execution_count": null,
   "id": "directed-remark",
   "metadata": {
    "scrolled": true
   },
   "outputs": [],
   "source": [
    "df.describe()"
   ]
  },
  {
   "cell_type": "code",
   "execution_count": null,
   "id": "subject-providence",
   "metadata": {},
   "outputs": [],
   "source": [
    "x = range(0,len(df.loc[(df.call_div_report < 15)]))\n",
    "plt.plot(x, df.loc[(df.call_div_report < 15)].sort_values(by=['sum_call']).sum_call)\n",
    "plt.plot(x, df.loc[(df.call_div_report < 15)].sort_values(by=['sum_call']).sum_report)\n",
    "plt.xlabel('phone')\n",
    "plt.ylabel('sum')\n",
    "plt.title('sum_call và sum_report')\n",
    "plt.legend(['sum_call', 'sum_report'])\n",
    "plt.show()"
   ]
  },
  {
   "cell_type": "code",
   "execution_count": null,
   "id": "fresh-figure",
   "metadata": {},
   "outputs": [],
   "source": [
    "a =df.loc[(df.call_div_report > 6)].sort_values(by=['call_div_report'])\n",
    "a"
   ]
  },
  {
   "cell_type": "code",
   "execution_count": null,
   "id": "least-pressure",
   "metadata": {},
   "outputs": [],
   "source": [
    "a.loc[a.sum_report > 3]"
   ]
  },
  {
   "cell_type": "code",
   "execution_count": null,
   "id": "wireless-handy",
   "metadata": {},
   "outputs": [],
   "source": [
    "x = range(0,len(a))\n",
    "plt.plot(x, a.sum_call)\n",
    "plt.plot(x, a.sum_report)\n",
    "plt.xlabel('phone')\n",
    "plt.ylabel('sum')\n",
    "plt.title('sum_call và sum_report')\n",
    "plt.legend(['sum_call', 'sum_report'])\n",
    "plt.show()"
   ]
  },
  {
   "cell_type": "code",
   "execution_count": null,
   "id": "resistant-decline",
   "metadata": {},
   "outputs": [],
   "source": [
    "plt.plot(x, a.sum_report)"
   ]
  },
  {
   "cell_type": "code",
   "execution_count": null,
   "id": "alternate-adjustment",
   "metadata": {},
   "outputs": [],
   "source": [
    "plt.plot(x, y)"
   ]
  },
  {
   "cell_type": "code",
   "execution_count": null,
   "id": "living-kidney",
   "metadata": {},
   "outputs": [],
   "source": [
    "from kneed import KneeLocator\n",
    "y = a.sort_values(by=['sum_call']).sum_call\n",
    "x = range(0,len(a))\n",
    "y= y.reset_index()\n",
    "b= y.sum_call\n",
    "kl = KneeLocator(x,y.sum_call, curve=\"convex\", direction='increasing', interp_method='polynomial')\n",
    "fig = plt.figure(figsize=(5, 5))\n",
    "kl.plot_knee()\n",
    "plt.xlabel(\"Points\")\n",
    "plt.ylabel(\"Sum_call\")\n"
   ]
  },
  {
   "cell_type": "code",
   "execution_count": null,
   "id": "inner-desire",
   "metadata": {},
   "outputs": [],
   "source": [
    "index = df.loc[(df.call_div_report > 5)].index"
   ]
  },
  {
   "cell_type": "code",
   "execution_count": null,
   "id": "civilian-logistics",
   "metadata": {},
   "outputs": [],
   "source": [
    "df.index"
   ]
  },
  {
   "cell_type": "code",
   "execution_count": null,
   "id": "cathedral-shield",
   "metadata": {},
   "outputs": [],
   "source": [
    "df['select'] = 0"
   ]
  },
  {
   "cell_type": "code",
   "execution_count": null,
   "id": "superior-flight",
   "metadata": {},
   "outputs": [],
   "source": [
    "df.loc[index,'select']=1"
   ]
  },
  {
   "cell_type": "code",
   "execution_count": null,
   "id": "precious-purchase",
   "metadata": {},
   "outputs": [],
   "source": [
    "df"
   ]
  },
  {
   "cell_type": "code",
   "execution_count": null,
   "id": "wrapped-baking",
   "metadata": {},
   "outputs": [],
   "source": [
    "df.loc[df.select == 0].describe()"
   ]
  },
  {
   "cell_type": "code",
   "execution_count": null,
   "id": "enhanced-baseball",
   "metadata": {},
   "outputs": [],
   "source": [
    "df_copy = df.copy()"
   ]
  },
  {
   "cell_type": "code",
   "execution_count": null,
   "id": "complicated-density",
   "metadata": {},
   "outputs": [],
   "source": [
    "df_copy=df_copy.sort_values(by=['call_div_report'])"
   ]
  },
  {
   "cell_type": "code",
   "execution_count": null,
   "id": "stable-fence",
   "metadata": {},
   "outputs": [],
   "source": [
    "df_copy"
   ]
  },
  {
   "cell_type": "code",
   "execution_count": null,
   "id": "behind-catalog",
   "metadata": {},
   "outputs": [],
   "source": [
    "x = range(0,len(df))\n",
    "plt.plot(x, df_copy.sum_report)\n",
    "plt.plot(x, df_copy.call_div_report)\n",
    "plt.plot(x, df_copy.sum_call)\n",
    "plt.xlabel('phone')\n",
    "plt.ylabel('sum')\n",
    "plt.title('sum_report và call_div_report và sum_call')\n",
    "plt.legend(['sum_report', 'call_div_report', 'sum_call'])\n",
    "plt.show()"
   ]
  },
  {
   "cell_type": "code",
   "execution_count": null,
   "id": "passing-drama",
   "metadata": {},
   "outputs": [],
   "source": [
    "plt.plot(x, df_copy.call_div_report)\n",
    "plt.show()"
   ]
  },
  {
   "cell_type": "code",
   "execution_count": null,
   "id": "established-poultry",
   "metadata": {},
   "outputs": [],
   "source": [
    "plt.plot(x, df_copy.sum_report)\n",
    "plt.show()"
   ]
  },
  {
   "cell_type": "code",
   "execution_count": null,
   "id": "bound-float",
   "metadata": {},
   "outputs": [],
   "source": [
    "plt.plot(x, df_copy.sum_call)\n",
    "plt.show()"
   ]
  },
  {
   "cell_type": "code",
   "execution_count": null,
   "id": "ranging-ranch",
   "metadata": {},
   "outputs": [],
   "source": [
    "x"
   ]
  },
  {
   "cell_type": "code",
   "execution_count": null,
   "id": "liquid-institution",
   "metadata": {},
   "outputs": [],
   "source": [
    "df"
   ]
  },
  {
   "cell_type": "code",
   "execution_count": null,
   "id": "frank-crash",
   "metadata": {},
   "outputs": [],
   "source": [
    "df.to_csv('test.csv')"
   ]
  },
  {
   "cell_type": "code",
   "execution_count": null,
   "id": "hispanic-secretariat",
   "metadata": {},
   "outputs": [],
   "source": []
  }
 ],
 "metadata": {
  "kernelspec": {
   "display_name": "Python 3",
   "language": "python",
   "name": "python3"
  },
  "language_info": {
   "codemirror_mode": {
    "name": "ipython",
    "version": 3
   },
   "file_extension": ".py",
   "mimetype": "text/x-python",
   "name": "python",
   "nbconvert_exporter": "python",
   "pygments_lexer": "ipython3",
   "version": "3.7.9"
  }
 },
 "nbformat": 4,
 "nbformat_minor": 5
}
